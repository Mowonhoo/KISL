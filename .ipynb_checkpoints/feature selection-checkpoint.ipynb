{
 "cells": [
  {
   "cell_type": "code",
   "execution_count": 1,
   "id": "f416ffee-9e46-4f1b-a70d-1077561f8f54",
   "metadata": {},
   "outputs": [
    {
     "name": "stdout",
     "output_type": "stream",
     "text": [
      "DONE!\n"
     ]
    }
   ],
   "source": [
    "# -*- coding: UTF-8 -*-\n",
    "import os, re, sys\n",
    "import pandas as pd\n",
    "import numpy as np\n",
    "\n",
    "import time\n",
    "import warnings\n",
    "warnings.filterwarnings(\"ignore\")\n",
    "\n",
    "from sklearn.ensemble import RandomForestClassifier as RFC\n",
    "from sklearn.model_selection import cross_val_score\n",
    "from sklearn.feature_selection import SelectKBest\n",
    "from sklearn.feature_selection import mutual_info_classif as MIC\n",
    "from sklearn.feature_selection import mutual_info_regression as MIR\n",
    "from sklearn.feature_selection import VarianceThreshold\n",
    "from sklearn.preprocessing import LabelEncoder\n",
    "\n",
    "from utils import filter_feature_selection\n",
    "\n",
    "workdir = \"./\"\n",
    "indir = \"./data\"\n",
    "outdir = \"./outdir/feature selection\"\n",
    "tail = '.tcga_gtex.tpm.updown.csv'\n",
    "\n",
    "datasets_summary = {}\n",
    "for pardir, subdirs, curfiles in os.walk(indir):\n",
    "    for subfile in curfiles:\n",
    "        if re.search(tail, subfile):\n",
    "            subfile_abspath = pardir + \"/\" + subfile\n",
    "\n",
    "            tumor_type = subfile.split(\".\")[0]\n",
    "            if not os.path.exists(os.path.join(outdir, tumor_type)):\n",
    "                os.makedirs(os.path.join(outdir, tumor_type))\n",
    "\n",
    "            tpm_df = pd.read_csv(subfile_abspath)\n",
    "            tpm_df.dropna(how=\"any\", axis=0, inplace=True)\n",
    "            tpm_df.index = tpm_df['Gene'].values\n",
    "            tpm_df.drop(['Gene'], axis=1, inplace=True)\n",
    "\n",
    "            clinical_df = pd.read_csv(os.path.join(indir, tumor_type, tumor_type + \".clinical.csv\"))\n",
    "            clinical_df.index = clinical_df[\"sample_name\"].values\n",
    "            # clinical_df.drop([\"sample_source\"], axis=1, inplace=True)#\"sample_name\",\n",
    "\n",
    "            samples = list(set(tpm_df.columns.tolist()) & set(clinical_df.index.tolist()))\n",
    "            tpm_df = tpm_df[samples]\n",
    "            clinical_df = clinical_df.loc[samples]\n",
    "\n",
    "            from sklearn.preprocessing import LabelEncoder\n",
    "\n",
    "            y = LabelEncoder().fit_transform(clinical_df.loc[:, \"sample_type\"])\n",
    "\n",
    "            tpm_df.drop(tpm_df.index[(tpm_df > 0).sum(axis=1) / tpm_df.shape[1] < 0.5], axis=0, inplace=True)\n",
    "\n",
    "            from sklearn.feature_selection import VarianceThreshold\n",
    "            var_selector = VarianceThreshold(threshold=0).fit(tpm_df.T)\n",
    "            tpm_df.drop(tpm_df.index[~var_selector.get_support()], axis=0,inplace=True)\n",
    "\n",
    "            tpm_df = filter_feature_selection(tpm_df, y, label_type='classif', methods='mutual_info')\n",
    "            tpm_df.to_csv(os.path.join(outdir, tumor_type, os.path.splitext(subfile)[0] + \".feature_selection.csv\"),\n",
    "                          sep=',', index=True)\n",
    "\n",
    "            datasets_summary[tumor_type] = tpm_df.shape\n",
    "\n",
    "datasets_summary = pd.DataFrame(datasets_summary, index=[\"gene\", \"sample\"])\n",
    "datasets_summary.to_csv(os.path.join(outdir, \"datasets.summary.csv\"), sep=',', index=True)\n",
    "print(\"DONE!\")\n"
   ]
  }
 ],
 "metadata": {
  "kernelspec": {
   "display_name": "Python 3 (ipykernel)",
   "language": "python",
   "name": "python3"
  },
  "language_info": {
   "codemirror_mode": {
    "name": "ipython",
    "version": 3
   },
   "file_extension": ".py",
   "mimetype": "text/x-python",
   "name": "python",
   "nbconvert_exporter": "python",
   "pygments_lexer": "ipython3",
   "version": "3.9.10"
  }
 },
 "nbformat": 4,
 "nbformat_minor": 5
}
