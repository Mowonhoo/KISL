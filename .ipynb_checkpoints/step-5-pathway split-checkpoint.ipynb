{
 "cells": [
  {
   "cell_type": "code",
   "execution_count": 3,
   "id": "f7a43cb8-c7c5-4b63-a88d-ff95c9155c88",
   "metadata": {},
   "outputs": [],
   "source": [
    "# coding='utf-8'\n",
    "\n",
    "import os, re, sys\n",
    "import pandas as pd\n",
    "import numpy as np\n",
    "\n",
    "\n",
    "workdir = \"E:/Project/Project001 WGCNA/main/step-5-split\"\n",
    "\n",
    "filename = '.tcga_gtex.tpm.updown.feature_selection.csv'\n",
    "# filename = '.tumor.tpm.updown.feature_selection.csv'\n",
    "\n",
    "outdir = \"E:/Project/Project001 WGCNA/main/step-5-split/outdir\"\n",
    "datDir = \"E:/Project/Project001 WGCNA/main/step-3-FeatureSelection/outdir\"\n",
    "pathwayDir = \"E:/Project/Project001 WGCNA/main/step-4-Gene Set Enrichment Analysis/outdir\"\n",
    "\n",
    "outdir = '/'.join([outdir, filename.split('.')[1]])\n",
    "pathwayDir = '/'.join([pathwayDir, filename.split('.')[1]])\n",
    "\n",
    "if not os.path.exists(outdir):\n",
    "    os.makedirs(outdir)\n",
    "    \n",
    "cancer_names = [\"BLCA\"\n",
    "                  ,\"BRCA\"\n",
    "                  ,\"COAD\"\n",
    "                  ,\"KIRC\"\n",
    "                  ,\"LUAD\"\n",
    "                  ,\"LUSC\"\n",
    "                  ,\"PAAD\"\n",
    "                  ,\"STAD\"]"
   ]
  },
  {
   "cell_type": "code",
   "execution_count": 5,
   "id": "4329f707-3b39-41ee-9de8-caf1f7fdde95",
   "metadata": {},
   "outputs": [
    {
     "name": "stdout",
     "output_type": "stream",
     "text": [
      "BLCA\n",
      "BRCA\n",
      "COAD\n",
      "KIRC\n",
      "LUAD\n",
      "LUSC\n",
      "PAAD\n",
      "STAD\n",
      "TASK DONE\n"
     ]
    }
   ],
   "source": [
    "###分割数据###\n",
    "pathway_num = {}\n",
    "for prefix in cancer_names:\n",
    "    \n",
    "    df = pd.read_csv(os.path.join(datDir, prefix, prefix+filename), sep=',', index_col=0)\n",
    "    print(prefix)\n",
    "    pathway_num[prefix] = 0\n",
    "    with open(os.path.join(pathwayDir, prefix, \"GO\", prefix+\".GO_BP.txt\"), \"r\") as fd:\n",
    "        fd.readline()\n",
    "        for pathway in fd:\n",
    "            #print(pathway)\n",
    "            pathway_num[prefix] = pathway_num[prefix] + 1\n",
    "            Item = pathway.split(\"\\t\")\n",
    "            pathwayID = Item[0]\n",
    "            pathwayID = pathwayID.replace(':', '_')\n",
    "            geneID = Item[7]\n",
    "            genes = geneID.split(\"/\")\n",
    "            if len(genes)!=int(Item[8].replace('\\n', '')):\n",
    "                print(\"Gene number wrong!\")\n",
    "            pathwayEM = df.loc[df.index.isin(genes)]\n",
    "            pathwayEM.insert(loc=0, column='SYMBOL', value=pathwayEM.index)\n",
    "            if not os.path.exists(os.path.join(outdir, prefix)):\n",
    "                os.makedirs(os.path.join(outdir, prefix))\n",
    "            pathwayEM.to_csv(os.path.join(outdir, prefix, prefix+filename.rstrip(\"csv\")+pathwayID+\".csv\"), header=True, index=False)#, sep=',', mode='a'--不写入index和colnames\n",
    "pathway_num = pd.DataFrame.from_dict(pathway_num, orient='index', columns=[\"pathway_num\"])\n",
    "pathway_num.to_csv(os.path.join(outdir, filename.rstrip(\"csv\")+\"pathway_count.csv\"), header=True, index=True)\n",
    "print(\"TASK DONE\")"
   ]
  },
  {
   "cell_type": "code",
   "execution_count": 6,
   "id": "07fc21e5-8761-4595-8641-3d5258b541f0",
   "metadata": {},
   "outputs": [
    {
     "data": {
      "text/html": [
       "<div>\n",
       "<style scoped>\n",
       "    .dataframe tbody tr th:only-of-type {\n",
       "        vertical-align: middle;\n",
       "    }\n",
       "\n",
       "    .dataframe tbody tr th {\n",
       "        vertical-align: top;\n",
       "    }\n",
       "\n",
       "    .dataframe thead th {\n",
       "        text-align: right;\n",
       "    }\n",
       "</style>\n",
       "<table border=\"1\" class=\"dataframe\">\n",
       "  <thead>\n",
       "    <tr style=\"text-align: right;\">\n",
       "      <th></th>\n",
       "      <th>pathway_num</th>\n",
       "    </tr>\n",
       "  </thead>\n",
       "  <tbody>\n",
       "    <tr>\n",
       "      <th>BLCA</th>\n",
       "      <td>6156</td>\n",
       "    </tr>\n",
       "    <tr>\n",
       "      <th>BRCA</th>\n",
       "      <td>6132</td>\n",
       "    </tr>\n",
       "    <tr>\n",
       "      <th>COAD</th>\n",
       "      <td>6181</td>\n",
       "    </tr>\n",
       "    <tr>\n",
       "      <th>KIRC</th>\n",
       "      <td>5888</td>\n",
       "    </tr>\n",
       "    <tr>\n",
       "      <th>LUAD</th>\n",
       "      <td>6091</td>\n",
       "    </tr>\n",
       "    <tr>\n",
       "      <th>LUSC</th>\n",
       "      <td>6270</td>\n",
       "    </tr>\n",
       "    <tr>\n",
       "      <th>PAAD</th>\n",
       "      <td>6110</td>\n",
       "    </tr>\n",
       "    <tr>\n",
       "      <th>STAD</th>\n",
       "      <td>6061</td>\n",
       "    </tr>\n",
       "  </tbody>\n",
       "</table>\n",
       "</div>"
      ],
      "text/plain": [
       "      pathway_num\n",
       "BLCA         6156\n",
       "BRCA         6132\n",
       "COAD         6181\n",
       "KIRC         5888\n",
       "LUAD         6091\n",
       "LUSC         6270\n",
       "PAAD         6110\n",
       "STAD         6061"
      ]
     },
     "execution_count": 6,
     "metadata": {},
     "output_type": "execute_result"
    }
   ],
   "source": [
    "pathway_num"
   ]
  },
  {
   "cell_type": "code",
   "execution_count": null,
   "id": "13f6f2ba-a84a-4e87-aa95-f118877ad483",
   "metadata": {},
   "outputs": [],
   "source": []
  }
 ],
 "metadata": {
  "kernelspec": {
   "display_name": "Python 3 (ipykernel)",
   "language": "python",
   "name": "python3"
  },
  "language_info": {
   "codemirror_mode": {
    "name": "ipython",
    "version": 3
   },
   "file_extension": ".py",
   "mimetype": "text/x-python",
   "name": "python",
   "nbconvert_exporter": "python",
   "pygments_lexer": "ipython3",
   "version": "3.9.10"
  }
 },
 "nbformat": 4,
 "nbformat_minor": 5
}
