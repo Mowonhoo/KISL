{
 "cells": [
  {
   "cell_type": "code",
   "execution_count": null,
   "id": "ef2ac577-51d1-40e4-ac6c-15a51b8e012e",
   "metadata": {},
   "outputs": [
    {
     "name": "stdout",
     "output_type": "stream",
     "text": [
      "BLCA\n",
      "Start=====>\n",
      "BLCA===========>\n",
      "\n",
      "./outdir/feature selection\\BLCA\\BLCA.tcga_gtex.tpm.updown.feature_selection.csv\n",
      "====== TIME WARNING ======\n"
     ]
    }
   ],
   "source": [
    "#!python\n",
    "#-*-coding:utf-8-*-\n",
    "\n",
    "import sys, os, re, gzip, getopt, optparse\n",
    "import pandas as pd\n",
    "import numpy as np\n",
    "from utils import my_dcorr\n",
    "import time\n",
    "\n",
    "# [public]\n",
    "dir_work = './'\n",
    "indir = \"./outdir/feature selection\"\n",
    "outdir = './outdir/calculate dcorr coef'\n",
    "filename = 'BLCA.tcga_gtex.tpm.updown.feature_selection.csv'\n",
    "\n",
    "sys.path.append(dir_work)\n",
    "\n",
    "prefix = filename.split('.')[0]\n",
    "print(prefix)\n",
    "print('Start=====>')\n",
    "\n",
    "print(\"%s===========>\\n\" % prefix)\n",
    "if not os.path.exists(os.path.join(outdir, prefix)):\n",
    "    os.makedirs(os.path.join(outdir, prefix))\n",
    "datdir = os.path.join(indir, prefix, filename)\n",
    "print(datdir)\n",
    "data = pd.read_csv(datdir, sep=',', index_col=0)\n",
    "\n",
    "print('====== TIME WARNING ======')\n",
    "t1 = time.time()\n",
    "dcor = my_dcorr(data, solver=None)\n",
    "t2 = time.time()\n",
    "print(\"The time of calculating Distance Correlation Coefficient on %s data is %.5fs\" % (prefix, (t2 - t1)))\n",
    "outfile = os.path.join(outdir, prefix, os.path.basename(datdir).rstrip('.csv') + \".dcorr.csv\")\n",
    "dcor.to_csv(outfile, index=False, sep=',')\n",
    "\n",
    "print(\"===============DONE===============\\n\")\n"
   ]
  },
  {
   "cell_type": "code",
   "execution_count": null,
   "id": "ae02883a-37b9-482a-bc2a-495a25d7610d",
   "metadata": {},
   "outputs": [],
   "source": []
  }
 ],
 "metadata": {
  "kernelspec": {
   "display_name": "Python 3 (ipykernel)",
   "language": "python",
   "name": "python3"
  },
  "language_info": {
   "codemirror_mode": {
    "name": "ipython",
    "version": 3
   },
   "file_extension": ".py",
   "mimetype": "text/x-python",
   "name": "python",
   "nbconvert_exporter": "python",
   "pygments_lexer": "ipython3",
   "version": "3.9.10"
  }
 },
 "nbformat": 4,
 "nbformat_minor": 5
}
